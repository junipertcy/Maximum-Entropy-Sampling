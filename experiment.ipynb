{
 "cells": [
  {
   "cell_type": "markdown",
   "metadata": {},
   "source": [
    "# Running the Algorithm\n",
    "\n",
    "The following code reproduces the figure of the manuscript that refers to the US air transportation network, originally considered in \n",
    "\n",
    "V. Colizza, R. Pastor-Satorras, and A. Vespignani,\n",
    "[Reaction–diffusion processes and metapopulation models in heterogeneous networks](https://www.nature.com/articles/nphys560), \n",
    "Nature Physics 3, 276–282 (2007)"
   ]
  },
  {
   "cell_type": "code",
   "execution_count": 1,
   "metadata": {},
   "outputs": [],
   "source": [
    "import networkx as nx\n",
    "import time\n",
    "from icm import *\n",
    "from mes import *\n",
    "\n",
    "import matplotlib.pyplot as plt\n",
    "from scipy.interpolate import interp1d\n",
    "import warnings\n",
    "# warnings.filterwarnings('ignore')\n",
    "# %matplotlib inline\n",
    "\n",
    "from datetime import datetime\n",
    "random.seed(datetime.now())"
   ]
  },
  {
   "cell_type": "code",
   "execution_count": 2,
   "metadata": {},
   "outputs": [],
   "source": [
    "## Load graph\n",
    "#G = nx.karate_club_graph()\n",
    "G = G=nx.read_edgelist('dataset/karate.edgelist')"
   ]
  },
  {
   "cell_type": "code",
   "execution_count": 3,
   "metadata": {},
   "outputs": [
    {
     "name": "stdout",
     "output_type": "stream",
     "text": [
      "--- 1.0675482749938965 seconds ---\n"
     ]
    }
   ],
   "source": [
    "T = 1000\n",
    "p = 0.2\n",
    "\n",
    "##compute entropy\n",
    "start_time = time.time()\n",
    "marg_entropy, cond_entropy = multiple_simulations_ICM(G, p, T)\n",
    "print(\"--- %s seconds ---\" % (time.time() - start_time))\n",
    "#print (marg_entropy)"
   ]
  },
  {
   "cell_type": "code",
   "execution_count": 4,
   "metadata": {},
   "outputs": [
    {
     "name": "stdout",
     "output_type": "stream",
     "text": [
      "--- 0.08453893661499023 seconds ---\n"
     ]
    }
   ],
   "source": [
    "#Maximum Entropy Sampling\n",
    "mes_rank, mes_value, mes_list_observed = max_ent_sampling (G, marg_entropy, cond_entropy)"
   ]
  },
  {
   "cell_type": "code",
   "execution_count": 5,
   "metadata": {},
   "outputs": [
    {
     "name": "stdout",
     "output_type": "stream",
     "text": [
      "--- 0.027302265167236328 seconds ---\n"
     ]
    }
   ],
   "source": [
    "#Sampling based on Marginal Entropy\n",
    "ind_rank, ind_value, ind_list_observed = max_ent_sampling_ind_approx (G, marg_entropy, cond_entropy)"
   ]
  },
  {
   "cell_type": "code",
   "execution_count": 6,
   "metadata": {},
   "outputs": [
    {
     "name": "stdout",
     "output_type": "stream",
     "text": [
      "--- 0.02957892417907715 seconds ---\n"
     ]
    }
   ],
   "source": [
    "#Random Sampling\n",
    "ran_rank, ran_value, ran_list_observed = random_sampling (G, marg_entropy, cond_entropy)"
   ]
  },
  {
   "cell_type": "code",
   "execution_count": null,
   "metadata": {},
   "outputs": [],
   "source": [
    "#Visualization\n",
    "\n",
    "steps = len(G) / 80.0\n",
    "\n",
    "fig = plt.figure()\n",
    "fig.set_size_inches(10,5)\n",
    "plt.rc('text', usetex=True)\n",
    "plt.rc('font', size=18, **{'family':'sans-serif','sans-serif':['Helvetica']})\n",
    "plt.rcParams['xtick.major.pad'] = 8\n",
    "plt.rcParams['ytick.major.pad'] = 8\n",
    "\n",
    "\n",
    "\n",
    "ax1 = fig.add_subplot(1,2,1)\n",
    "ax1.set_xlabel('node degree', fontsize=20)\n",
    "ax1.set_ylabel('node rank', fontsize=20)\n",
    "\n",
    "\n",
    "ax2 = fig.add_subplot(1,2,2)\n",
    "ax2.set_xlabel('number of observed nodes', fontsize=20)\n",
    "ax2.set_ylabel('entropy (bits)', fontsize=20)\n",
    "\n",
    "\n",
    "\n",
    "\n",
    "\n",
    "x = []\n",
    "y = []\n",
    "z = []\n",
    "for n in G:\n",
    "    x.append(G.degree(n))\n",
    "    y.append(mes_rank[n])\n",
    "    z.append(mes_value[n])\n",
    "    \n",
    "    \n",
    "xnew = np.linspace(min(y), max(y), num=len(y)/steps, endpoint=True)\n",
    "f = interp1d(y, z, kind='cubic')\n",
    "ax2.plot(xnew, f(xnew), marker='o', color='red', markeredgecolor='red', linewidth=2.0, markersize=0, alpha=1, label='$\\\\mathcal{H}_{pair}(O_{pair})$')\n",
    "ax1.plot(x,y, marker='o', color='red', markeredgecolor='red', linewidth=0.0, markersize=5, alpha=1)\n",
    "#ax2.plot(y,z, marker='o', color='red', markeredgecolor='red', linewidth=0.0, markersize=5, alpha=1, label='Maximum Entropy Sampling')\n",
    "\n",
    "\n",
    "\n",
    "\n",
    "x = []\n",
    "y = []\n",
    "z = []\n",
    "tmp = {}\n",
    "for n in G:\n",
    "    x.append(G.degree(n))\n",
    "    y.append(ind_rank[n])\n",
    "    z.append(ind_value[n])\n",
    "    tmp[ind_rank[n]] = marg_entropy[n]\n",
    "    \n",
    "tmp_y = []\n",
    "tmp_z = []\n",
    "norm = 0.0\n",
    "for n in range(1, len(G)+1, 1):\n",
    "    tmp_y.append(n)\n",
    "    norm += tmp[n]\n",
    "    tmp_z.append(norm)\n",
    "\n",
    "    \n",
    "xnew = np.linspace(min(y), max(y), num=len(y)/steps, endpoint=True)\n",
    "f = interp1d(y, z, kind='cubic')\n",
    "ax2.plot(xnew, f(xnew), marker='^', color='black', markeredgecolor='black', linewidth=2.0, linestyle = 'dashed', markersize=0, alpha=1, label='$\\\\mathcal{H}_{pair}(O_{ind})$')\n",
    "ax1.plot(x,y, marker='^', color='black', markeredgecolor='black', linewidth=0.0, markersize=5, alpha=1)\n",
    "#ax2.plot(y,z, marker='o', color='red', markeredgecolor='red', linewidth=0.0, markersize=5, alpha=1, label='Maximum Entropy Sampling')\n",
    "\n",
    "\n",
    "xnew = np.linspace(min(tmp_y), max(tmp_y), num=len(tmp_y)/steps, endpoint=True)\n",
    "f = interp1d(tmp_y, tmp_z, kind='cubic')\n",
    "ax2.plot(xnew, f(xnew), marker='^', color='green', markeredgecolor='green', linewidth=4.0, linestyle = '-', markersize=0, alpha=0.5, label='$\\\\mathcal{H}_{ind}(O_{ind})$')\n",
    "\n",
    "\n",
    "\n",
    "\n",
    "\n",
    "x = []\n",
    "y = []\n",
    "z = []\n",
    "for n in G:\n",
    "    x.append(G.degree(n))\n",
    "    y.append(ran_rank[n])\n",
    "    z.append(ran_value[n])\n",
    "\n",
    "xnew = np.linspace(min(y), max(y), num=len(y)/steps, endpoint=True)\n",
    "f = interp1d(y, z, kind='cubic')\n",
    "ax2.plot(xnew, f(xnew), marker='s', color='blue', markeredgecolor='blue', linewidth=2.0, linestyle = 'dotted', markersize=0, alpha=1, label='$\\\\mathcal{H}_{pair}(O_{rng})$')\n",
    "#ax1.plot(x,y, marker='s', color='blue', markeredgecolor='blue', linewidth=0.0, markersize=5, alpha=1)\n",
    "#ax2.plot(y,z, marker='s', color='red', markeredgecolor='red', linewidth=0.0, markersize=5, alpha=1, label='Random Sampling')\n",
    "\n",
    "\n",
    "\n",
    "\n",
    "ax2.set_xlim(0, len(G))\n",
    "ax2.set_ylim(0, max(tmp_z))\n",
    "\n",
    "\n",
    "ax2.legend(loc=2, numpoints=1, prop={'size':14})\n",
    "#ax1.locator_params(nbins=4)\n",
    "ax1.set_xscale('log')\n",
    "ax2.locator_params(nbins=4)\n",
    "\n",
    "\n",
    "\n",
    "fig.tight_layout()\n",
    "plt.show()"
   ]
  },
  {
   "cell_type": "code",
   "execution_count": null,
   "metadata": {},
   "outputs": [],
   "source": []
  }
 ],
 "metadata": {
  "kernelspec": {
   "display_name": "Python 3",
   "language": "python",
   "name": "python3"
  },
  "language_info": {
   "codemirror_mode": {
    "name": "ipython",
    "version": 3
   },
   "file_extension": ".py",
   "mimetype": "text/x-python",
   "name": "python",
   "nbconvert_exporter": "python",
   "pygments_lexer": "ipython3",
   "version": "3.6.0"
  }
 },
 "nbformat": 4,
 "nbformat_minor": 2
}
